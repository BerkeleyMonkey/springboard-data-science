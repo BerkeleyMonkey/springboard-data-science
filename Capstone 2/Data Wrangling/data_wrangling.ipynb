{
 "cells": [
  {
   "cell_type": "markdown",
   "metadata": {
    "collapsed": true
   },
   "source": [
    "# Data Wrangling\n",
    "\n",
    "In this notebook we\n",
    "1. Load data scraped from Twitter.\n",
    "2. TODO: Clean data by drop duplicates(if applicable), fix data types, fixing missing values, finding outliers and fixing them."
   ]
  },
  {
   "cell_type": "markdown",
   "metadata": {},
   "source": [
    "## Import Packages"
   ]
  },
  {
   "cell_type": "code",
   "execution_count": 1,
   "metadata": {},
   "outputs": [],
   "source": [
    "import pandas as pd\n",
    "import numpy as np\n",
    "from sklearn import preprocessing\n",
    "\n",
    "import matplotlib.pyplot as plt\n",
    "import seaborn as sns\n",
    "\n",
    "sns.set()\n",
    "sns.set_style(\"whitegrid\")\n",
    "palette = sns.diverging_palette(220, 20, sep = 20, n = 150)\n",
    "sns.set_palette(palette)"
   ]
  },
  {
   "cell_type": "markdown",
   "metadata": {},
   "source": [
    "## Load Data"
   ]
  },
  {
   "cell_type": "code",
   "execution_count": 2,
   "metadata": {},
   "outputs": [
    {
     "name": "stdout",
     "output_type": "stream",
     "text": [
      "../Data/tweets.csv\r\n"
     ]
    }
   ],
   "source": [
    "# Check how many csv files there are\n",
    "data_dir = '../Data/*.csv'\n",
    "! ls {data_dir}"
   ]
  },
  {
   "cell_type": "code",
   "execution_count": 3,
   "metadata": {},
   "outputs": [],
   "source": [
    "# Load data for the traning set\n",
    "df = pd.read_csv('../Data/tweets.csv')"
   ]
  },
  {
   "cell_type": "code",
   "execution_count": 4,
   "metadata": {},
   "outputs": [
    {
     "data": {
      "text/html": [
       "<div>\n",
       "<style scoped>\n",
       "    .dataframe tbody tr th:only-of-type {\n",
       "        vertical-align: middle;\n",
       "    }\n",
       "\n",
       "    .dataframe tbody tr th {\n",
       "        vertical-align: top;\n",
       "    }\n",
       "\n",
       "    .dataframe thead th {\n",
       "        text-align: right;\n",
       "    }\n",
       "</style>\n",
       "<table border=\"1\" class=\"dataframe\">\n",
       "  <thead>\n",
       "    <tr style=\"text-align: right;\">\n",
       "      <th></th>\n",
       "      <th>Tweets</th>\n",
       "    </tr>\n",
       "  </thead>\n",
       "  <tbody>\n",
       "    <tr>\n",
       "      <th>0</th>\n",
       "      <td>Burt Reynolds. True legend. Our hero. Funny as hell and a for-real badass. So many great movies. So many great stories. Such a great Dad. Will be missed by all. Deepest condolences to his family.</td>\n",
       "    </tr>\n",
       "    <tr>\n",
       "      <th>1</th>\n",
       "      <td>Just spent 5.99 on this movie and definitely was not worth it!</td>\n",
       "    </tr>\n",
       "    <tr>\n",
       "      <th>2</th>\n",
       "      <td>Im 19.  I get a few lines in a movie. The megastar on set was really nice and cool to this punk actor(me) for no reason. The director called me before the movie came out to tell me I had hit the cutting room floor. But I never forgot that Star. Thanks Burt. RIP</td>\n",
       "    </tr>\n",
       "    <tr>\n",
       "      <th>3</th>\n",
       "      <td>I want to warn you because nobody warned me: \"Sierra Burgess is a Loser\" had me full-on crying by the end. I love this movie and really think you will too</td>\n",
       "    </tr>\n",
       "    <tr>\n",
       "      <th>4</th>\n",
       "      <td>I’ve never seen a Burt Reynolds movie</td>\n",
       "    </tr>\n",
       "    <tr>\n",
       "      <th>5</th>\n",
       "      <td>I want to watch a movie with my man tonight, can anyone recommend a good man?</td>\n",
       "    </tr>\n",
       "    <tr>\n",
       "      <th>6</th>\n",
       "      <td>Experience everything it takes to be the first. Ryan Gosling is Neil Armstrong. See #FirstMan in theaters and IMAX October 12.</td>\n",
       "    </tr>\n",
       "    <tr>\n",
       "      <th>7</th>\n",
       "      <td>RT for a chance to win a pair of Poppy’s 3D glasses! Here’s how to enter my giveaway:\\n\\n must be following\\n fav + rt\\n tag 1-3 friends and tell me what your favorite movie you’ve seen in 3D was!\\n\\nI’m so excited for this!! Good luck to all</td>\n",
       "    </tr>\n",
       "    <tr>\n",
       "      <th>8</th>\n",
       "      <td>The moment all Harry Potter fans lost it. Both in the book and in the movie.</td>\n",
       "    </tr>\n",
       "    <tr>\n",
       "      <th>9</th>\n",
       "      <td>Watching @readyplayerone movie</td>\n",
       "    </tr>\n",
       "    <tr>\n",
       "      <th>10</th>\n",
       "      <td>#20MoreMovieChallenge\\n\\n1. Post a picture of a movie that made an impact on your life.\\n2. No titles/comments.\\n\\nDay 11:</td>\n",
       "    </tr>\n",
       "    <tr>\n",
       "      <th>11</th>\n",
       "      <td>Me watchin dis movie #TheSnowman  Dis woz Not, repeat Not, wot me woz expectin At All!!   Gonna hide behind a cushion  #NighttimeTallulah</td>\n",
       "    </tr>\n",
       "    <tr>\n",
       "      <th>12</th>\n",
       "      <td>This one's for the #movie buffs... but no cheating! What movie is this from?</td>\n",
       "    </tr>\n",
       "    <tr>\n",
       "      <th>13</th>\n",
       "      <td>This week we're counting down the very best DATE movies! Let us know your #Top3 films to take a date too and why they work so well for you, and we'll run through a heap of answers on the show! #PodernFamily</td>\n",
       "    </tr>\n",
       "    <tr>\n",
       "      <th>14</th>\n",
       "      <td>In Spain 1968, my dad was filming 100 Rifles. It was a western starring Raquel Welch and Jim Brown. Dad and Burt had supporting roles in the movie and their friendship lasted until Dad… https://www.instagram.com/p/BnZvkpQhrgt/?utm_source=ig_twitter_share&amp;igshid=9shqu0dhonxz …</td>\n",
       "    </tr>\n",
       "    <tr>\n",
       "      <th>15</th>\n",
       "      <td>Sad for a professional woman to be chewing gum? Really? That’s all you have? Go make a movie.</td>\n",
       "    </tr>\n",
       "    <tr>\n",
       "      <th>16</th>\n",
       "      <td>At His Best, Burt Reynolds Was a Great Actor, But He Was Also a Movie Star Who Refused to Take Stardom Seriously</td>\n",
       "    </tr>\n",
       "    <tr>\n",
       "      <th>17</th>\n",
       "      <td>#Win a Hoodie and Poster signed by Jennifer Garner from the #Peppermintmovie #ad @pamelamaynard @PeppermintMovie #movie #giveaway https://www.momdoesreviews.com/2018/09/06/win-a-hoodie-and-poster-signed-by-jennifer-garner-from-the-peppermintmovie-ad/ …</td>\n",
       "    </tr>\n",
       "    <tr>\n",
       "      <th>18</th>\n",
       "      <td>Want to win an awesome prize pack and 4 VIP tickets to see an early screening of THE HOUSE WITH A CLOCK IN ITS WALLS? Reply to post to enter into our drawing! Winner selected Mon, Sept 10th! #housewithaclock #movie #tickets #free #win #contestgiveaway #seattle #visitseattle</td>\n",
       "    </tr>\n",
       "    <tr>\n",
       "      <th>19</th>\n",
       "      <td>The 90’s were full of bad (ass) action flicks that we all loved. Today we play the games that almost made us hate them. \\n\\nIt’s Thursday.\\nIt’s Bad Action Movie Tie-Ins.\\nIt’s Retro Replay.\\n\\nhttps://youtu.be/AsUgY7l7uBs  via @YouTube</td>\n",
       "    </tr>\n",
       "  </tbody>\n",
       "</table>\n",
       "</div>"
      ],
      "text/plain": [
       "                                                                                                                                                                                                                                                                                  Tweets\n",
       "0                                                                                    Burt Reynolds. True legend. Our hero. Funny as hell and a for-real badass. So many great movies. So many great stories. Such a great Dad. Will be missed by all. Deepest condolences to his family.\n",
       "1                                                                                                                                                                                                                        Just spent 5.99 on this movie and definitely was not worth it! \n",
       "2                  Im 19.  I get a few lines in a movie. The megastar on set was really nice and cool to this punk actor(me) for no reason. The director called me before the movie came out to tell me I had hit the cutting room floor. But I never forgot that Star. Thanks Burt. RIP\n",
       "3                                                                                                                            I want to warn you because nobody warned me: \"Sierra Burgess is a Loser\" had me full-on crying by the end. I love this movie and really think you will too \n",
       "4                                                                                                                                                                                                                                                  I’ve never seen a Burt Reynolds movie\n",
       "5                                                                                                                                                                                                          I want to watch a movie with my man tonight, can anyone recommend a good man?\n",
       "6                                                                                                                                                         Experience everything it takes to be the first. Ryan Gosling is Neil Armstrong. See #FirstMan in theaters and IMAX October 12.\n",
       "7                                   RT for a chance to win a pair of Poppy’s 3D glasses! Here’s how to enter my giveaway:\\n\\n must be following\\n fav + rt\\n tag 1-3 friends and tell me what your favorite movie you’ve seen in 3D was!\\n\\nI’m so excited for this!! Good luck to all  \n",
       "8                                                                                                                                                                                                          The moment all Harry Potter fans lost it. Both in the book and in the movie. \n",
       "9                                                                                                                                                                                                                                                       Watching @readyplayerone movie  \n",
       "10                                                                                                                                                           #20MoreMovieChallenge\\n\\n1. Post a picture of a movie that made an impact on your life.\\n2. No titles/comments.\\n\\nDay 11: \n",
       "11                                                                                                                                            Me watchin dis movie #TheSnowman  Dis woz Not, repeat Not, wot me woz expectin At All!!   Gonna hide behind a cushion  #NighttimeTallulah \n",
       "12                                                                                                                                                                                                         This one's for the #movie buffs... but no cheating! What movie is this from? \n",
       "13                                                                        This week we're counting down the very best DATE movies! Let us know your #Top3 films to take a date too and why they work so well for you, and we'll run through a heap of answers on the show! #PodernFamily\n",
       "14  In Spain 1968, my dad was filming 100 Rifles. It was a western starring Raquel Welch and Jim Brown. Dad and Burt had supporting roles in the movie and their friendship lasted until Dad… https://www.instagram.com/p/BnZvkpQhrgt/?utm_source=ig_twitter_share&igshid=9shqu0dhonxz …\n",
       "15                                                                                                                                                                                         Sad for a professional woman to be chewing gum? Really? That’s all you have? Go make a movie.\n",
       "16                                                                                                                                                                     At His Best, Burt Reynolds Was a Great Actor, But He Was Also a Movie Star Who Refused to Take Stardom Seriously \n",
       "17                          #Win a Hoodie and Poster signed by Jennifer Garner from the #Peppermintmovie #ad @pamelamaynard @PeppermintMovie #movie #giveaway https://www.momdoesreviews.com/2018/09/06/win-a-hoodie-and-poster-signed-by-jennifer-garner-from-the-peppermintmovie-ad/ …\n",
       "18    Want to win an awesome prize pack and 4 VIP tickets to see an early screening of THE HOUSE WITH A CLOCK IN ITS WALLS? Reply to post to enter into our drawing! Winner selected Mon, Sept 10th! #housewithaclock #movie #tickets #free #win #contestgiveaway #seattle #visitseattle\n",
       "19                                          The 90’s were full of bad (ass) action flicks that we all loved. Today we play the games that almost made us hate them. \\n\\nIt’s Thursday.\\nIt’s Bad Action Movie Tie-Ins.\\nIt’s Retro Replay.\\n\\nhttps://youtu.be/AsUgY7l7uBs  via @YouTube"
      ]
     },
     "execution_count": 4,
     "metadata": {},
     "output_type": "execute_result"
    }
   ],
   "source": [
    "pd.options.display.max_colwidth = 500\n",
    "df.head(20)"
   ]
  },
  {
   "cell_type": "markdown",
   "metadata": {},
   "source": [
    "##  Remove Unwanted Tokens"
   ]
  },
  {
   "cell_type": "markdown",
   "metadata": {},
   "source": [
    "By inspecting the above tweets, there are many \"\\n\" which represent newline in code. Let's remove them:"
   ]
  },
  {
   "cell_type": "code",
   "execution_count": 5,
   "metadata": {},
   "outputs": [
    {
     "data": {
      "text/html": [
       "<div>\n",
       "<style scoped>\n",
       "    .dataframe tbody tr th:only-of-type {\n",
       "        vertical-align: middle;\n",
       "    }\n",
       "\n",
       "    .dataframe tbody tr th {\n",
       "        vertical-align: top;\n",
       "    }\n",
       "\n",
       "    .dataframe thead th {\n",
       "        text-align: right;\n",
       "    }\n",
       "</style>\n",
       "<table border=\"1\" class=\"dataframe\">\n",
       "  <thead>\n",
       "    <tr style=\"text-align: right;\">\n",
       "      <th></th>\n",
       "      <th>Tweets</th>\n",
       "    </tr>\n",
       "  </thead>\n",
       "  <tbody>\n",
       "    <tr>\n",
       "      <th>0</th>\n",
       "      <td>Burt Reynolds. True legend. Our hero. Funny as hell and a for-real badass. So many great movies. So many great stories. Such a great Dad. Will be missed by all. Deepest condolences to his family.</td>\n",
       "    </tr>\n",
       "    <tr>\n",
       "      <th>1</th>\n",
       "      <td>Just spent 5.99 on this movie and definitely was not worth it!</td>\n",
       "    </tr>\n",
       "    <tr>\n",
       "      <th>2</th>\n",
       "      <td>Im 19.  I get a few lines in a movie. The megastar on set was really nice and cool to this punk actor(me) for no reason. The director called me before the movie came out to tell me I had hit the cutting room floor. But I never forgot that Star. Thanks Burt. RIP</td>\n",
       "    </tr>\n",
       "    <tr>\n",
       "      <th>3</th>\n",
       "      <td>I want to warn you because nobody warned me: \"Sierra Burgess is a Loser\" had me full-on crying by the end. I love this movie and really think you will too</td>\n",
       "    </tr>\n",
       "    <tr>\n",
       "      <th>4</th>\n",
       "      <td>I’ve never seen a Burt Reynolds movie</td>\n",
       "    </tr>\n",
       "    <tr>\n",
       "      <th>5</th>\n",
       "      <td>I want to watch a movie with my man tonight, can anyone recommend a good man?</td>\n",
       "    </tr>\n",
       "    <tr>\n",
       "      <th>6</th>\n",
       "      <td>Experience everything it takes to be the first. Ryan Gosling is Neil Armstrong. See #FirstMan in theaters and IMAX October 12.</td>\n",
       "    </tr>\n",
       "    <tr>\n",
       "      <th>7</th>\n",
       "      <td>RT for a chance to win a pair of Poppy’s 3D glasses! Here’s how to enter my giveaway: must be following fav + rt tag 1-3 friends and tell me what your favorite movie you’ve seen in 3D was!I’m so excited for this!! Good luck to all</td>\n",
       "    </tr>\n",
       "    <tr>\n",
       "      <th>8</th>\n",
       "      <td>The moment all Harry Potter fans lost it. Both in the book and in the movie.</td>\n",
       "    </tr>\n",
       "    <tr>\n",
       "      <th>9</th>\n",
       "      <td>Watching @readyplayerone movie</td>\n",
       "    </tr>\n",
       "    <tr>\n",
       "      <th>10</th>\n",
       "      <td>#20MoreMovieChallenge1. Post a picture of a movie that made an impact on your life.2. No titles/comments.Day 11:</td>\n",
       "    </tr>\n",
       "    <tr>\n",
       "      <th>11</th>\n",
       "      <td>Me watchin dis movie #TheSnowman  Dis woz Not, repeat Not, wot me woz expectin At All!!   Gonna hide behind a cushion  #NighttimeTallulah</td>\n",
       "    </tr>\n",
       "    <tr>\n",
       "      <th>12</th>\n",
       "      <td>This one's for the #movie buffs... but no cheating! What movie is this from?</td>\n",
       "    </tr>\n",
       "    <tr>\n",
       "      <th>13</th>\n",
       "      <td>This week we're counting down the very best DATE movies! Let us know your #Top3 films to take a date too and why they work so well for you, and we'll run through a heap of answers on the show! #PodernFamily</td>\n",
       "    </tr>\n",
       "    <tr>\n",
       "      <th>14</th>\n",
       "      <td>In Spain 1968, my dad was filming 100 Rifles. It was a western starring Raquel Welch and Jim Brown. Dad and Burt had supporting roles in the movie and their friendship lasted until Dad… https://www.instagram.com/p/BnZvkpQhrgt/?utm_source=ig_twitter_share&amp;igshid=9shqu0dhonxz …</td>\n",
       "    </tr>\n",
       "    <tr>\n",
       "      <th>15</th>\n",
       "      <td>Sad for a professional woman to be chewing gum? Really? That’s all you have? Go make a movie.</td>\n",
       "    </tr>\n",
       "    <tr>\n",
       "      <th>16</th>\n",
       "      <td>At His Best, Burt Reynolds Was a Great Actor, But He Was Also a Movie Star Who Refused to Take Stardom Seriously</td>\n",
       "    </tr>\n",
       "    <tr>\n",
       "      <th>17</th>\n",
       "      <td>#Win a Hoodie and Poster signed by Jennifer Garner from the #Peppermintmovie #ad @pamelamaynard @PeppermintMovie #movie #giveaway https://www.momdoesreviews.com/2018/09/06/win-a-hoodie-and-poster-signed-by-jennifer-garner-from-the-peppermintmovie-ad/ …</td>\n",
       "    </tr>\n",
       "    <tr>\n",
       "      <th>18</th>\n",
       "      <td>Want to win an awesome prize pack and 4 VIP tickets to see an early screening of THE HOUSE WITH A CLOCK IN ITS WALLS? Reply to post to enter into our drawing! Winner selected Mon, Sept 10th! #housewithaclock #movie #tickets #free #win #contestgiveaway #seattle #visitseattle</td>\n",
       "    </tr>\n",
       "    <tr>\n",
       "      <th>19</th>\n",
       "      <td>The 90’s were full of bad (ass) action flicks that we all loved. Today we play the games that almost made us hate them. It’s Thursday.It’s Bad Action Movie Tie-Ins.It’s Retro Replay.https://youtu.be/AsUgY7l7uBs  via @YouTube</td>\n",
       "    </tr>\n",
       "  </tbody>\n",
       "</table>\n",
       "</div>"
      ],
      "text/plain": [
       "                                                                                                                                                                                                                                                                                  Tweets\n",
       "0                                                                                    Burt Reynolds. True legend. Our hero. Funny as hell and a for-real badass. So many great movies. So many great stories. Such a great Dad. Will be missed by all. Deepest condolences to his family.\n",
       "1                                                                                                                                                                                                                        Just spent 5.99 on this movie and definitely was not worth it! \n",
       "2                  Im 19.  I get a few lines in a movie. The megastar on set was really nice and cool to this punk actor(me) for no reason. The director called me before the movie came out to tell me I had hit the cutting room floor. But I never forgot that Star. Thanks Burt. RIP\n",
       "3                                                                                                                            I want to warn you because nobody warned me: \"Sierra Burgess is a Loser\" had me full-on crying by the end. I love this movie and really think you will too \n",
       "4                                                                                                                                                                                                                                                  I’ve never seen a Burt Reynolds movie\n",
       "5                                                                                                                                                                                                          I want to watch a movie with my man tonight, can anyone recommend a good man?\n",
       "6                                                                                                                                                         Experience everything it takes to be the first. Ryan Gosling is Neil Armstrong. See #FirstMan in theaters and IMAX October 12.\n",
       "7                                               RT for a chance to win a pair of Poppy’s 3D glasses! Here’s how to enter my giveaway: must be following fav + rt tag 1-3 friends and tell me what your favorite movie you’ve seen in 3D was!I’m so excited for this!! Good luck to all  \n",
       "8                                                                                                                                                                                                          The moment all Harry Potter fans lost it. Both in the book and in the movie. \n",
       "9                                                                                                                                                                                                                                                       Watching @readyplayerone movie  \n",
       "10                                                                                                                                                                     #20MoreMovieChallenge1. Post a picture of a movie that made an impact on your life.2. No titles/comments.Day 11: \n",
       "11                                                                                                                                            Me watchin dis movie #TheSnowman  Dis woz Not, repeat Not, wot me woz expectin At All!!   Gonna hide behind a cushion  #NighttimeTallulah \n",
       "12                                                                                                                                                                                                         This one's for the #movie buffs... but no cheating! What movie is this from? \n",
       "13                                                                        This week we're counting down the very best DATE movies! Let us know your #Top3 films to take a date too and why they work so well for you, and we'll run through a heap of answers on the show! #PodernFamily\n",
       "14  In Spain 1968, my dad was filming 100 Rifles. It was a western starring Raquel Welch and Jim Brown. Dad and Burt had supporting roles in the movie and their friendship lasted until Dad… https://www.instagram.com/p/BnZvkpQhrgt/?utm_source=ig_twitter_share&igshid=9shqu0dhonxz …\n",
       "15                                                                                                                                                                                         Sad for a professional woman to be chewing gum? Really? That’s all you have? Go make a movie.\n",
       "16                                                                                                                                                                     At His Best, Burt Reynolds Was a Great Actor, But He Was Also a Movie Star Who Refused to Take Stardom Seriously \n",
       "17                          #Win a Hoodie and Poster signed by Jennifer Garner from the #Peppermintmovie #ad @pamelamaynard @PeppermintMovie #movie #giveaway https://www.momdoesreviews.com/2018/09/06/win-a-hoodie-and-poster-signed-by-jennifer-garner-from-the-peppermintmovie-ad/ …\n",
       "18    Want to win an awesome prize pack and 4 VIP tickets to see an early screening of THE HOUSE WITH A CLOCK IN ITS WALLS? Reply to post to enter into our drawing! Winner selected Mon, Sept 10th! #housewithaclock #movie #tickets #free #win #contestgiveaway #seattle #visitseattle\n",
       "19                                                      The 90’s were full of bad (ass) action flicks that we all loved. Today we play the games that almost made us hate them. It’s Thursday.It’s Bad Action Movie Tie-Ins.It’s Retro Replay.https://youtu.be/AsUgY7l7uBs  via @YouTube"
      ]
     },
     "execution_count": 5,
     "metadata": {},
     "output_type": "execute_result"
    }
   ],
   "source": [
    "df['Tweets'] = df['Tweets'].apply(lambda x: x.replace('\\n', ''))\n",
    "df.head(20)"
   ]
  },
  {
   "cell_type": "markdown",
   "metadata": {},
   "source": [
    "There are may hyperlinks as well. Let's remove them:"
   ]
  },
  {
   "cell_type": "code",
   "execution_count": null,
   "metadata": {},
   "outputs": [],
   "source": []
  },
  {
   "cell_type": "code",
   "execution_count": 6,
   "metadata": {},
   "outputs": [],
   "source": [
    "# Save dataframe for future analysis\n",
    "df.to_csv('../Data/tweets_cleansed.csv', index = False)"
   ]
  }
 ],
 "metadata": {
  "kernelspec": {
   "display_name": "Python 3",
   "language": "python",
   "name": "python3"
  },
  "language_info": {
   "codemirror_mode": {
    "name": "ipython",
    "version": 3
   },
   "file_extension": ".py",
   "mimetype": "text/x-python",
   "name": "python",
   "nbconvert_exporter": "python",
   "pygments_lexer": "ipython3",
   "version": "3.6.4"
  }
 },
 "nbformat": 4,
 "nbformat_minor": 2
}
