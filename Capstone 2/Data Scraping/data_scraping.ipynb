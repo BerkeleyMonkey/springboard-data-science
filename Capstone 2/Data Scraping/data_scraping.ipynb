{
 "cells": [
  {
   "cell_type": "markdown",
   "metadata": {
    "collapsed": true
   },
   "source": [
    "# Data Scraping\n",
    "\n",
    "In this notebook we\n",
    "1. Use Selenium & twitter search API to scrape twitter data.\n",
    "2. Dump them in to a csv file for further analysis."
   ]
  },
  {
   "cell_type": "code",
   "execution_count": 1,
   "metadata": {},
   "outputs": [],
   "source": [
    "# Import packages\n",
    "import pandas as pd\n",
    "import json\n",
    "\n",
    "# selenium\n",
    "from selenium import webdriver\n",
    "from selenium.webdriver.common.keys import Keys"
   ]
  },
  {
   "cell_type": "code",
   "execution_count": 2,
   "metadata": {},
   "outputs": [],
   "source": [
    "# Define function for scraping tweets\n",
    "class Scraper():\n",
    "    driver_path = \"/Users/Nicole/Courses/Springboard-data-science/Capstone 2/Exe/chromedriver\"\n",
    "    \n",
    "    def __init__(self):\n",
    "        self.driver = webdriver.Chrome(executable_path = self.driver_path)\n",
    "        \n",
    "    def __del__(self):\n",
    "        self.driver.close()\n",
    "        \n",
    "    def get_tweets(self, url, key_word):\n",
    "        print(\"URL: \\n    \" + url)\n",
    "        self.driver.get(url)\n",
    "        print(\"TITLE: \\n    \" + self.driver.title)\n",
    "                \n",
    "        elements = self.driver.find_elements_by_class_name('js-tweet-text')\n",
    "        tweets = [element.text for element in elements]\n",
    "        \n",
    "        return tweets"
   ]
  },
  {
   "cell_type": "code",
   "execution_count": 3,
   "metadata": {},
   "outputs": [
    {
     "name": "stdout",
     "output_type": "stream",
     "text": [
      "URL: \n",
      "    https://twitter.com/search?q=movie%20since%3A2018-07-01%20until%3A2018-08-31&amp;amp;amp;amp;amp;amp;lang=tr%22\n",
      "TITLE: \n",
      "    movie since:2018-07-01 until:2018-08-31 - Twitter Search\n",
      "                                              Tweets\n",
      "0  Schindler’s List, a movie about refugees and N...\n",
      "1                “Why so serious?” - Guess the movie\n",
      "2  DC MOVIE UPDATE: NOBODY has been \"offered\" any...\n",
      "3  The John Wick movies have the best action scen...\n",
      "4  .@Eminem teases music for upcoming 'Venom' mov...\n",
      "5                    Can’t wait to watch the movie  \n",
      "6  This week's big topic is the very best INSPIRA...\n",
      "7  Eminem Teases a #Venom Movie Tie-In Song - htt...\n",
      "8               I gotta see this movie #WhiteBoyRick\n",
      "9  \"Eighth Grade\" star @ElsieKFisher joins animat...\n"
     ]
    }
   ],
   "source": [
    "# Scraping tweets using twitter search API.\n",
    "keyword = \"movie\"\n",
    "start_date, end_date = \"2018-07-01\", \"2018-08-31\"\n",
    "url = \"https://twitter.com/search?q=\" + keyword + \"%20since%3A\" + start_date + \\\n",
    "      \"%20until%3A\" + end_date + \"&amp;amp;amp;amp;amp;amp;lang=tr%22\"\n",
    "\n",
    "scraper = Scraper()\n",
    "tweets = scraper.get_tweets(url, keyword)\n",
    "df = pd.DataFrame({'Tweets' : tweets})\n",
    "print(df.head(10))"
   ]
  },
  {
   "cell_type": "code",
   "execution_count": 4,
   "metadata": {},
   "outputs": [],
   "source": [
    "# Dump tweets to csv file for further analysis.\n",
    "df.to_csv('../Data/tweets.csv', index = False)"
   ]
  }
 ],
 "metadata": {
  "kernelspec": {
   "display_name": "Python 3",
   "language": "python",
   "name": "python3"
  },
  "language_info": {
   "codemirror_mode": {
    "name": "ipython",
    "version": 3
   },
   "file_extension": ".py",
   "mimetype": "text/x-python",
   "name": "python",
   "nbconvert_exporter": "python",
   "pygments_lexer": "ipython3",
   "version": "3.6.4"
  }
 },
 "nbformat": 4,
 "nbformat_minor": 2
}
