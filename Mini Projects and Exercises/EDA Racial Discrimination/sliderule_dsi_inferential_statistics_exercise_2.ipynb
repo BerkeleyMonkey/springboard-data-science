{
 "cells": [
  {
   "cell_type": "markdown",
   "metadata": {},
   "source": [
    "# Examining Racial Discrimination in the US Job Market\n",
    "\n",
    "### Background\n",
    "Racial discrimination continues to be pervasive in cultures throughout the world. Researchers examined the level of racial discrimination in the United States labor market by randomly assigning identical résumés to black-sounding or white-sounding names and observing the impact on requests for interviews from employers.\n",
    "\n",
    "### Data\n",
    "In the dataset provided, each row represents a resume. The 'race' column has two values, 'b' and 'w', indicating black-sounding and white-sounding. The column 'call' has two values, 1 and 0, indicating whether the resume received a call from employers or not.\n",
    "\n",
    "Note that the 'b' and 'w' values in race are assigned randomly to the resumes when presented to the employer."
   ]
  },
  {
   "cell_type": "markdown",
   "metadata": {},
   "source": [
    "### Exercises\n",
    "You will perform a statistical analysis to establish whether race has a significant impact on the rate of callbacks for resumes.\n",
    "\n",
    "Answer the following questions **in this notebook below and submit to your Github account**. \n",
    "\n",
    "   1. What test is appropriate for this problem? Does CLT apply?\n",
    "   2. What are the null and alternate hypotheses?\n",
    "   3. Compute margin of error, confidence interval, and p-value. Try using both the bootstrapping and the frequentist statistical approaches.\n",
    "   4. Write a story describing the statistical significance in the context or the original problem.\n",
    "   5. Does your analysis mean that race/name is the most important factor in callback success? Why or why not? If not, how would you amend your analysis?\n",
    "\n",
    "You can include written notes in notebook cells using Markdown: \n",
    "   - In the control panel at the top, choose Cell > Cell Type > Markdown\n",
    "   - Markdown syntax: http://nestacms.com/docs/creating-content/markdown-cheat-sheet\n",
    "\n",
    "\n",
    "#### Resources\n",
    "+ Experiment information and data source: http://www.povertyactionlab.org/evaluation/discrimination-job-market-united-states\n",
    "+ Scipy statistical methods: http://docs.scipy.org/doc/scipy/reference/stats.html \n",
    "+ Markdown syntax: http://nestacms.com/docs/creating-content/markdown-cheat-sheet\n",
    "+ Formulas for the Bernoulli distribution: https://en.wikipedia.org/wiki/Bernoulli_distribution"
   ]
  },
  {
   "cell_type": "markdown",
   "metadata": {},
   "source": [
    "### Load Data"
   ]
  },
  {
   "cell_type": "code",
   "execution_count": 1,
   "metadata": {},
   "outputs": [],
   "source": [
    "import pandas as pd\n",
    "import numpy as np\n",
    "import matplotlib.pyplot as plt\n",
    "import seaborn as sns\n",
    "from scipy import stats\n",
    "\n",
    "sns.set()\n",
    "sns.set_style(\"whitegrid\")\n",
    "palette = sns.diverging_palette(220, 20, sep = 20, n = 4)\n",
    "sns.set_palette(palette)"
   ]
  },
  {
   "cell_type": "code",
   "execution_count": 2,
   "metadata": {},
   "outputs": [],
   "source": [
    "df = pd.io.stata.read_stata('data/us_job_market_discrimination.dta')"
   ]
  },
  {
   "cell_type": "code",
   "execution_count": 3,
   "metadata": {},
   "outputs": [],
   "source": [
    "df = df[['race', 'call']]"
   ]
  },
  {
   "cell_type": "markdown",
   "metadata": {
    "collapsed": true
   },
   "source": [
    "### Question 1: What test is appropriate for this problem? Does CLT apply?"
   ]
  },
  {
   "cell_type": "markdown",
   "metadata": {},
   "source": [
    "According to the Bernoulli distribution: https://en.wikipedia.org/wiki/Bernoulli_distribution:\n",
    "> The Bernoulli distribution is the probability distribution of a random variable which takes the value 1 with probability p and the value 0 with probability q=1-p, that is, the probability distribution of any single experiment that asks a yes–no question; the question results in a boolean-valued outcome, a single bit of information whose value is success/yes/true/one with probability p and failure/no/false/zero with probability q.\n",
    "\n",
    "\n",
    "According to Binomial distribution: https://en.wikipedia.org/wiki/Binomial_distribution\n",
    "> The binomial distribution, denoted as B(n, p), with parameters n and p is the discrete probability distribution of the number of successes in a sequence of n independent experiments, each asking a yes–no question, and each with its own boolean-valued outcome: a random variable containing single bit of information: success/yes/true/one (with probability p) or failure/no/false/zero (with probability q = 1 − p). A single success/failure experiment is also called a Bernoulli trial or Bernoulli experiment and a sequence of outcomes is called a Bernoulli process; for a single trial, i.e., n = 1, the binomial distribution is a Bernoulli distribution.\n",
    "\n",
    "> Also, since B(n, p) is a sum of n independent, identically distributed Bernoulli variables with parameter p. This fact is the basis of a hypothesis test, a \"proportion z-test\", for the value of p using x/n, the sample proportion and estimator of p, in a common test statistic.[13]\n",
    "\n",
    "According to Central limit theorem: https://en.wikipedia.org/wiki/Central_limit_theorem\n",
    "> When independent random variables are added, their properly normalized sum tends toward a normal distribution (informally a \"bell curve\") even if the original variables themselves are not normally distributed. The theorem is a key concept in probability theory because it implies that probabilistic and statistical methods that work for normal distributions can be applicable to many problems involving other types of distributions.\n",
    "\n",
    "According to Z Test: Definition & Two Proportion Z-Test: http://www.statisticshowto.com/z-test/\n",
    "> This tests for a difference in proportions. A two proportion z-test allows you to compare two proportions to see if they are the same.\n",
    "* The null hypothesis (H0) for the test is that the proportions are the same.\n",
    "* The alternate hypothesis (H1) is that the proportions are not the same.\n",
    "\n",
    "\n",
    "In this question:\n",
    "1. Each call of a resume is a random Bernoulli variable which takes either 1 or 0.\n",
    "2. A sequence of propability of call of success of n independent resume, is binomial distributed.\n",
    "3. Althogh the sequence of propability of call of sucess of n independent resume is binomail distribued, according to centrel limit therom, their properly normalized sum, which is sum of sucess calls, would tend toward a normal distribution (informally a \"bell curve\") even if the original variables themselves are not normally distributed.\n",
    "\n",
    "** So yes CLT can apply and two proportion Z-test is appropriate for this problem.**"
   ]
  },
  {
   "cell_type": "markdown",
   "metadata": {},
   "source": [
    "###  Question 2: What are the null and alternate hypotheses?\n",
    "#### The null hypothesis for the test is that the proportions of call of success of black-sounding and white-sounding are the same.\n",
    "\n",
    "\n",
    "#### The alternate hypothesis for the test is that the proportions of call of success of black-sounding and white-sounding are **not** the same."
   ]
  },
  {
   "cell_type": "markdown",
   "metadata": {},
   "source": [
    "### Question 3: Compute margin of error, confidence interval, and p-value. Try using both the bootstrapping and the frequentist statistical approaches."
   ]
  },
  {
   "cell_type": "code",
   "execution_count": 4,
   "metadata": {},
   "outputs": [],
   "source": [
    "df_w = df[df.race == 'w']\n",
    "df_w = df_w.drop(['race'], axis = 1)\n",
    "df_b = df[df.race == 'b']\n",
    "df_b = df_b.drop(['race'], axis = 1)"
   ]
  },
  {
   "cell_type": "markdown",
   "metadata": {
    "collapsed": true
   },
   "source": [
    "#### Bootstrapping Approach:"
   ]
  },
  {
   "cell_type": "code",
   "execution_count": 5,
   "metadata": {},
   "outputs": [
    {
     "name": "stdout",
     "output_type": "stream",
     "text": [
      "Bootstrapping Approach p value: 0.0\n"
     ]
    }
   ],
   "source": [
    "def permutation_sample(data1, data2):\n",
    "    data = np.concatenate((data1, data2))\n",
    "    permuted_data = np.random.permutation(data)\n",
    "    perm_sample_1 = permuted_data[:len(data1)]\n",
    "    perm_sample_2 = permuted_data[len(data1):]\n",
    "    \n",
    "    return perm_sample_1, perm_sample_2\n",
    "\n",
    "def draw_perm_reps(data_1, data_2, func, size = 1):\n",
    "    perm_replicates = np.empty(size)\n",
    "\n",
    "    for i in range(size):\n",
    "        perm_sample_1, perm_sample_2 = permutation_sample(data_1, data_2)\n",
    "        perm_replicates[i] = func(perm_sample_1, perm_sample_2)\n",
    "\n",
    "    return perm_replicates\n",
    "\n",
    "def diff_of_proportion(data_1, data_2):\n",
    "    return (sum(data_1) / len(data_1) - (sum(data_2) / len(data_2)))\n",
    "\n",
    "empirical_diff_propertion = diff_of_proportion(df_w['call'], df_b['call'])\n",
    "\n",
    "perm_replicates = draw_perm_reps(df_w, df_b, \n",
    "                                 diff_of_proportion, size = 1000)\n",
    "\n",
    "p = np.sum(perm_replicates >= empirical_diff_propertion) / len(perm_replicates)\n",
    "print('Bootstrapping Approach p value:', p)"
   ]
  },
  {
   "cell_type": "code",
   "execution_count": 6,
   "metadata": {},
   "outputs": [
    {
     "name": "stdout",
     "output_type": "stream",
     "text": [
      "Bootstrapping Approach confidence intervel: [-0.01478439  0.01480492]\n"
     ]
    }
   ],
   "source": [
    "# Need to revisit:\n",
    "conf_int = np.percentile(perm_replicates, [2.5, 97.5])\n",
    "print('Bootstrapping Approach confidence interval:', conf_int)"
   ]
  },
  {
   "cell_type": "markdown",
   "metadata": {},
   "source": [
    "#### Frequentist statistical using two proportion Z-Test: http://www.statisticshowto.com/z-test/\n",
    "#### References for calculating margin of error & confidence interval for two proportions: http://www.stat.wmich.edu/s216/book/node85.html"
   ]
  },
  {
   "cell_type": "code",
   "execution_count": 7,
   "metadata": {},
   "outputs": [
    {
     "name": "stdout",
     "output_type": "stream",
     "text": [
      "Frequentist statistical test Margin of Error: 0.0152554063499\n",
      "Frequentist statistical test confidence intervel: (0.016777447859559147, 0.047288260559332024)\n"
     ]
    }
   ],
   "source": [
    "# Calculate margin of error and confidence interval\n",
    "z_value = 1.96\n",
    "\n",
    "# white-sounding\n",
    "w_p = sum(df_w.call) / len(df_w.call)\n",
    "prop_white_cb = 235/2435\n",
    "w_std_err = np.sqrt((w_p * (1 - w_p) / len(df_w.call)))\n",
    "\n",
    "# black-sounding\n",
    "b_p = sum(df_b.call) / len(df_b.call)\n",
    "b_std_err = np.sqrt((b_p * (1 - b_p) / len(df_b.call)))\n",
    "prop_black_cb = 157/2435\n",
    "\n",
    "std_err_diff = np.sqrt((w_std_err ** 2 + b_std_err ** 2))\n",
    "margin_of_err_diff = z_value * std_err_diff\n",
    "print('Frequentist statistical test Margin of Error:', margin_of_err_diff)\n",
    "\n",
    "p_diff = w_p - b_p\n",
    "\n",
    "conf_int = (p_diff - margin_of_err_diff, p_diff + margin_of_err_diff)\n",
    "print('Frequentist statistical test confidence interval:', conf_int)"
   ]
  },
  {
   "cell_type": "code",
   "execution_count": 8,
   "metadata": {},
   "outputs": [
    {
     "name": "stdout",
     "output_type": "stream",
     "text": [
      "Z-score: 4.108412152434346\n"
     ]
    }
   ],
   "source": [
    "# Calculate p value\n",
    "# Step 1: Find the two proportions:\n",
    "p_w_succss = sum(df_w.call) / df_w.shape[0]\n",
    "p_b_succss = sum(df_b.call) / df_b.shape[0]\n",
    "\n",
    "# Step 2: Find the overall sample proportion.\n",
    "p_success = (sum(df_w.call) + sum(df_b.call)) / (df_w.shape[0] + df_b.shape[0])\n",
    "\n",
    "# Step 3: Compute Z score\n",
    "Z = (p_w_succss - p_b_succss - 0) / \\\n",
    "    (( p_success * (1 - p_success) * ( 1 / df_w.shape[0] + 1 / df_b.shape[0])) ** (1 / 2))\n",
    "print('Z-score:', Z)\n",
    "\n",
    "# Step 4: For confidence level 95%, the z value is 1.96.\n",
    "# As Z score is larger than 1.96, we can reject the null hypothesis."
   ]
  },
  {
   "cell_type": "markdown",
   "metadata": {},
   "source": [
    "#### Statsmodels also has library for two proportional Z-Test: http://www.statsmodels.org/dev/generated/statsmodels.stats.proportion.proportions_ztest.html"
   ]
  },
  {
   "cell_type": "code",
   "execution_count": 9,
   "metadata": {},
   "outputs": [
    {
     "name": "stdout",
     "output_type": "stream",
     "text": [
      "Two proportional Z-Test Z-score: 4.10841215243\n",
      "Two proportional Z-Test p-value: 3.98388683759e-05\n"
     ]
    },
    {
     "name": "stderr",
     "output_type": "stream",
     "text": [
      "/anaconda3/lib/python3.6/site-packages/statsmodels/compat/pandas.py:56: FutureWarning: The pandas.core.datetools module is deprecated and will be removed in a future version. Please use the pandas.tseries module instead.\n",
      "  from pandas.core import datetools\n"
     ]
    }
   ],
   "source": [
    "import statsmodels.api as sm\n",
    "\n",
    "z_score, p_value = sm.stats.proportions_ztest([sum(df_w.call), sum(df_b.call)], [df_w.shape[0], df_b.shape[0]])\n",
    "print('Two proportional Z-Test Z-score:', z_score)\n",
    "print('Two proportional Z-Test p-value:', p_value)"
   ]
  },
  {
   "cell_type": "markdown",
   "metadata": {},
   "source": [
    "### Question 4: Write a story describing the statistical significance in the context or the original problem &\n",
    "### Question 5: Does your analysis mean that race/name is the most important factor in callback success? Why or why not? If not, how would you amend your analysis?"
   ]
  },
  {
   "cell_type": "markdown",
   "metadata": {},
   "source": [
    "#### As p value is so small in both bootstrapping tests and frequentist statistical test, we can reject the null hypothesis. We can conclude that the proportions of call of success of black-sounding and white-sounding are **not** the same.\n",
    "#### The story here is based on the analysis, racial discrimination continues to be a significant issue in the United States labor market.\n"
   ]
  }
 ],
 "metadata": {
  "kernelspec": {
   "display_name": "Python 3",
   "language": "python",
   "name": "python3"
  },
  "language_info": {
   "codemirror_mode": {
    "name": "ipython",
    "version": 3
   },
   "file_extension": ".py",
   "mimetype": "text/x-python",
   "name": "python",
   "nbconvert_exporter": "python",
   "pygments_lexer": "ipython3",
   "version": "3.6.4"
  }
 },
 "nbformat": 4,
 "nbformat_minor": 1
}
